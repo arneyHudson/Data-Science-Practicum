{
 "cells": [
  {
   "cell_type": "code",
   "execution_count": null,
   "id": "cac53dff",
   "metadata": {},
   "outputs": [],
   "source": [
    "import pandas as pd\n",
    "import numpy as np\n",
    "from sklearn.cluster import KMeans\n",
    "from sklearn.cluster import OPTICS\n",
    "import matplotlib.pyplot as plt\n",
    "from sklearn.cluster import Birch\n",
    "import skfuzzy as fuzz\n",
    "from tqdm import tqdm\n",
    "from sklearn_extra.cluster import KMedoids\n",
    "from sklearn.metrics import silhouette_score\n",
    "from matplotlib.patches import Ellipse\n",
    "import mplcursors\n",
    "import plotly.express as px\n",
    "import plotly.graph_objects as go\n",
    "from sklearn.covariance import empirical_covariance\n",
    "from sklearn.preprocessing import StandardScaler"
   ]
  },
  {
   "cell_type": "code",
   "execution_count": null,
   "id": "d9c44fa2",
   "metadata": {},
   "outputs": [],
   "source": [
    "from importlib.machinery import SourceFileLoader\n",
    "foo = SourceFileLoader(\"gfg\", '/home/arneyh/scotforgeproject1/mod/dataset.py').load_module()\n",
    "#from mod.dataset import DataSet"
   ]
  },
  {
   "cell_type": "code",
   "execution_count": null,
   "id": "b327f8bd",
   "metadata": {},
   "outputs": [],
   "source": [
    "final_df = foo.DataSet()"
   ]
  },
  {
   "cell_type": "code",
   "execution_count": null,
   "id": "abe99b92",
   "metadata": {},
   "outputs": [],
   "source": [
    "final_df = final_df.final_customer_df\n",
    "final_df.tail(3)"
   ]
  },
  {
   "cell_type": "code",
   "execution_count": null,
   "id": "912d8f94",
   "metadata": {},
   "outputs": [],
   "source": [
    "# pip install scikit-learn-extra\n",
    "# Uncomment if first cell fails"
   ]
  },
  {
   "cell_type": "code",
   "execution_count": null,
   "id": "316a6de7",
   "metadata": {},
   "outputs": [],
   "source": [
    "pd.set_option('display.max_columns', None)\n",
    "file_path = '~/scotforgeproject1/csv_datasets/'\n",
    "df = pd.read_csv(file_path + \"Customer_Location.csv\")\n",
    "\n",
    "# Only keeping the 2.5k Customers in all\n",
    "df = df[df['Customer ID'].isin(final_df['Customer ID'])]\n",
    "df.reset_index(drop=True, inplace=True)\n",
    "\n",
    "df = pd.merge(df, final_df[['Customer ID', 'Subsegment Code']], on='Customer ID', how='left')\n",
    "\n",
    "# Making an extra Coordinate column that combines longitude and latitude to easier compare with other features\n",
    "df['Coordinate'] = df.apply(lambda row: (row['Longitude'], row['Latitude']), axis=1)\n",
    "\n",
    "region_encoded_df = pd.get_dummies(df['Region'], prefix='Region')\n",
    "df = pd.concat([df, region_encoded_df], axis=1)\n",
    "df.drop(columns=['Region'], inplace=True)\n",
    "\n",
    "df.tail(3)"
   ]
  },
  {
   "cell_type": "code",
   "execution_count": null,
   "id": "f962aea7",
   "metadata": {},
   "outputs": [],
   "source": [
    "us_df = df[df['Country'] == 'US']\n",
    "non_us_df = df[df['Country'] != 'US']\n",
    "\n",
    "us_df.reset_index(drop=True, inplace=True)\n",
    "non_us_df.reset_index(drop=True, inplace=True)"
   ]
  },
  {
   "cell_type": "code",
   "execution_count": null,
   "id": "c51bc200",
   "metadata": {},
   "outputs": [],
   "source": [
    "us_df.tail(1)"
   ]
  },
  {
   "cell_type": "code",
   "execution_count": null,
   "id": "52d6373e",
   "metadata": {},
   "outputs": [],
   "source": [
    "non_us_df.tail(1)"
   ]
  },
  {
   "cell_type": "code",
   "execution_count": null,
   "id": "4969cd67",
   "metadata": {},
   "outputs": [],
   "source": [
    "df.describe()"
   ]
  },
  {
   "cell_type": "code",
   "execution_count": null,
   "id": "45206f49",
   "metadata": {},
   "outputs": [],
   "source": [
    "df.shape"
   ]
  },
  {
   "cell_type": "code",
   "execution_count": null,
   "id": "2e834928",
   "metadata": {},
   "outputs": [],
   "source": [
    "df.columns"
   ]
  },
  {
   "cell_type": "markdown",
   "id": "f54529b7",
   "metadata": {},
   "source": [
    "#### Number of values"
   ]
  },
  {
   "cell_type": "code",
   "execution_count": null,
   "id": "3340501d",
   "metadata": {},
   "outputs": [],
   "source": [
    "for column in df.columns:\n",
    "    print(f'{column}: {df[column].count()}')"
   ]
  },
  {
   "cell_type": "markdown",
   "id": "aaa4f6fe",
   "metadata": {},
   "source": [
    "#### Unique Values"
   ]
  },
  {
   "cell_type": "code",
   "execution_count": null,
   "id": "8d1fe32a",
   "metadata": {},
   "outputs": [],
   "source": [
    "for column in df.columns:\n",
    "    print(f'{column}: {df[column].nunique()}')"
   ]
  },
  {
   "cell_type": "markdown",
   "id": "3bfc4670",
   "metadata": {},
   "source": [
    "#### Type of Data"
   ]
  },
  {
   "cell_type": "code",
   "execution_count": null,
   "id": "a20682fd",
   "metadata": {},
   "outputs": [],
   "source": [
    "for column in df.columns:\n",
    "    print(f'{column}: {df[column].dtype}')"
   ]
  },
  {
   "cell_type": "code",
   "execution_count": null,
   "id": "b407f696",
   "metadata": {},
   "outputs": [],
   "source": [
    "for column in df.columns:\n",
    "    print(f'{column}: {pd.api.types.is_numeric_dtype(df[column])}')"
   ]
  },
  {
   "cell_type": "markdown",
   "id": "5339029e",
   "metadata": {},
   "source": [
    "#### Checking for null values"
   ]
  },
  {
   "cell_type": "code",
   "execution_count": null,
   "id": "c229f077",
   "metadata": {},
   "outputs": [],
   "source": [
    "for column in df.columns:\n",
    "    print(f'{column}: {df[column].isnull().sum()}')"
   ]
  },
  {
   "cell_type": "markdown",
   "id": "14a23e75",
   "metadata": {},
   "source": [
    "## Fuzzy Clustering"
   ]
  },
  {
   "cell_type": "code",
   "execution_count": null,
   "id": "3233115e",
   "metadata": {},
   "outputs": [],
   "source": [
    "def fuzzy_clustering(dataset, num_clusters, fuzziness=2, max_iterations=100, tolerance=1e-5):\n",
    "    \"\"\"\n",
    "    Apply fuzzy clustering to a dataset.\n",
    "\n",
    "    Parameters:\n",
    "        dataset (numpy.ndarray): The dataset to cluster.\n",
    "        num_clusters (int): The number of clusters to create.\n",
    "        fuzziness (float): The fuzziness parameter (default=2).\n",
    "        max_iterations (int): The maximum number of iterations for the clustering algorithm (default=100).\n",
    "        tolerance (float): The convergence criterion (default=1e-5).\n",
    "\n",
    "    Returns:\n",
    "        centroids (numpy.ndarray): The centroids of the clusters.\n",
    "        membership (numpy.ndarray): The membership values for each data point.\n",
    "    \"\"\"\n",
    "\n",
    "    # Transpose the dataset so that each row represents a data point\n",
    "    dataset = dataset.T\n",
    "\n",
    "    # Initialize the centroids randomly\n",
    "    centroids = np.random.rand(num_clusters, dataset.shape[1])\n",
    "\n",
    "    # Apply fuzzy c-means clustering\n",
    "    centroids, membership, _, _, _, _, _ = fuzz.cluster.cmeans(\n",
    "        dataset, num_clusters, fuzziness, error=tolerance, maxiter=max_iterations)\n",
    "\n",
    "    return centroids, membership"
   ]
  },
  {
   "cell_type": "code",
   "execution_count": null,
   "id": "d5d70cdc",
   "metadata": {},
   "outputs": [],
   "source": [
    "def calculate_silhouette_score(data, num_clusters):\n",
    "    \"\"\"\n",
    "    Calculate the silhouette score for a given number of clusters using fuzzy clustering.\n",
    "\n",
    "    Parameters:\n",
    "        data (numpy.ndarray): The data to cluster.\n",
    "        num_clusters (int): The number of clusters.\n",
    "\n",
    "    Returns:\n",
    "        silhouette_score (float): The silhouette score.\n",
    "    \"\"\"\n",
    "    centroids, membership = fuzzy_clustering(data, num_clusters)  # Perform fuzzy clustering\n",
    "    labels = np.argmax(membership, axis=0)  # Convert membership matrix to cluster labels\n",
    "    if len(np.unique(labels)) < 2:\n",
    "        return -1  # Return a negative value to indicate empty clusters\n",
    "    score = silhouette_score(data, labels)\n",
    "    return score"
   ]
  },
  {
   "cell_type": "code",
   "execution_count": null,
   "id": "f1524ba1",
   "metadata": {},
   "outputs": [],
   "source": [
    "def compute_covariance(selected_data, membership, centroids, cluster_index):\n",
    "    cluster_points = selected_data[membership.argmax(axis=0) == cluster_index]\n",
    "    covariance_matrix = np.cov(cluster_points.T)\n",
    "    return covariance_matrix"
   ]
  },
  {
   "cell_type": "markdown",
   "id": "8a3ffd9a",
   "metadata": {},
   "source": [
    "### Testing to see the right number of Clusters is most optimal"
   ]
  },
  {
   "cell_type": "code",
   "execution_count": null,
   "id": "118c874c",
   "metadata": {},
   "outputs": [],
   "source": [
    "feature_combinations = [['Longitude', 'Latitude']]\n",
    "\n",
    "num_clusters_range = range(2, 16)  # Test 2 to 15 clusters\n",
    "best_num_clusters = None\n",
    "best_score = -1\n",
    "silhouette_scores_list = []  \n",
    "\n",
    "for num_clusters in tqdm(num_clusters_range):\n",
    "    silhouette_scores = []\n",
    "    for features in feature_combinations:\n",
    "        selected_data = us_df[features].values\n",
    "        score = calculate_silhouette_score(selected_data, num_clusters)\n",
    "        silhouette_scores.append(score)\n",
    "    avg_score = np.mean(silhouette_scores)\n",
    "    silhouette_scores_list.append(avg_score)"
   ]
  },
  {
   "cell_type": "code",
   "execution_count": null,
   "id": "d515dd37",
   "metadata": {},
   "outputs": [],
   "source": [
    "plt.figure(figsize=(10, 6))\n",
    "plt.bar(num_clusters_range, silhouette_scores_list)\n",
    "plt.xlabel('Number of Clusters')\n",
    "plt.ylabel('Average Silhouette Score')\n",
    "plt.title('Average Silhouette Score vs Number of Clusters')\n",
    "plt.xticks(num_clusters_range)\n",
    "plt.grid(True)\n",
    "plt.show()"
   ]
  },
  {
   "cell_type": "code",
   "execution_count": null,
   "id": "3828ea9c",
   "metadata": {},
   "outputs": [],
   "source": [
    "north_america_bounds = {\n",
    "    \"min_longitude\": -125.0,\n",
    "    \"max_longitude\": -67.0,\n",
    "    \"min_latitude\": 24.0,\n",
    "    \"max_latitude\": 49.0\n",
    "}\n",
    "\n",
    "num_clusters = 2\n",
    "for features in feature_combinations:\n",
    "    selected_data = us_df[features].values\n",
    "    \n",
    "    # Filter data points within North America\n",
    "    is_in_north_america = np.logical_and.reduce([\n",
    "        selected_data[:, 0] >= north_america_bounds[\"min_longitude\"],\n",
    "        selected_data[:, 0] <= north_america_bounds[\"max_longitude\"],\n",
    "        selected_data[:, 1] >= north_america_bounds[\"min_latitude\"],\n",
    "        selected_data[:, 1] <= north_america_bounds[\"max_latitude\"]\n",
    "    ])\n",
    "    selected_data = selected_data[is_in_north_america]\n",
    "    centroids, membership = fuzzy_clustering(selected_data, num_clusters)\n",
    "    \n",
    "    fig, ax = plt.subplots(figsize=(20, 10))\n",
    "\n",
    "    # Clusters\n",
    "    for i in range(num_clusters):\n",
    "        cluster_color = plt.cm.tab10(i)\n",
    "        ax.scatter(selected_data[membership.argmax(axis=0) == i, 0], selected_data[membership.argmax(axis=0) == i, 1], label=f'Cluster {i+1}', alpha=0.5, color=cluster_color)\n",
    "\n",
    "    # Centroids\n",
    "    for i in range(num_clusters):\n",
    "        cluster_color = plt.cm.tab10(i)\n",
    "        ax.scatter(centroids[i, 0], centroids[i, 1], marker='X', color=cluster_color, edgecolors='black', linewidth=1, s=100)\n",
    "\n",
    "        covariance_matrix = compute_covariance(selected_data, membership, centroids, i)\n",
    "\n",
    "        # Plot ellipse around centroids\n",
    "        ellipse = Ellipse((centroids[i, 0], centroids[i, 1]), 2*np.sqrt(5.991*covariance_matrix[0, 0]), 2*np.sqrt(5.991*covariance_matrix[1, 1]), np.degrees(np.arccos(covariance_matrix[0, 1]/np.sqrt(covariance_matrix[0, 0]*covariance_matrix[1, 1]))), edgecolor=cluster_color, linestyle='--', fill=True, alpha=0.1, lw=2, facecolor=cluster_color)\n",
    "        ax.add_patch(ellipse)\n",
    "\n",
    "    ax.set_title(f'Fuzzy Clustering Results (US Only): {features[0]} vs {features[1]}')\n",
    "    ax.set_xlabel(features[0])\n",
    "    ax.set_ylabel(features[1])\n",
    "    ax.legend()\n",
    "    \n",
    "    plt.grid(True)\n",
    "    plt.show()"
   ]
  },
  {
   "cell_type": "markdown",
   "id": "4ae6f083",
   "metadata": {},
   "source": [
    "______________________________________________________________________________"
   ]
  },
  {
   "cell_type": "code",
   "execution_count": null,
   "id": "64a53f88",
   "metadata": {},
   "outputs": [],
   "source": [
    "feature_combinations = [['Longitude', 'Latitude', 'Subsegment Code']]\n",
    "\n",
    "# Test 2 to 15 clusters\n",
    "num_clusters_range = range(2, 16)\n",
    "best_num_clusters = None\n",
    "best_score = -1\n",
    "silhouette_scores_list = []\n",
    "\n",
    "for num_clusters in tqdm(num_clusters_range):\n",
    "    silhouette_scores = []\n",
    "    for features in feature_combinations:\n",
    "        # Extracting selected features\n",
    "        selected_data = us_df[features].values\n",
    "        \n",
    "        # Standardize the data (optional but recommended for clustering)\n",
    "        scaler = StandardScaler()\n",
    "        selected_data_scaled = scaler.fit_transform(selected_data)\n",
    "        \n",
    "        # Calculate silhouette score\n",
    "        score = calculate_silhouette_score(selected_data_scaled, num_clusters)\n",
    "        silhouette_scores.append(score)\n",
    "    avg_score = np.mean(silhouette_scores)\n",
    "    silhouette_scores_list.append(avg_score)"
   ]
  },
  {
   "cell_type": "code",
   "execution_count": null,
   "id": "aae49b21",
   "metadata": {},
   "outputs": [],
   "source": [
    "plt.figure(figsize=(10, 6))\n",
    "plt.bar(num_clusters_range, silhouette_scores_list)\n",
    "plt.xlabel('Number of Clusters')\n",
    "plt.ylabel('Average Silhouette Score')\n",
    "plt.title('Average Silhouette Score vs Number of Clusters')\n",
    "plt.xticks(num_clusters_range)\n",
    "plt.grid(True)\n",
    "plt.show()"
   ]
  },
  {
   "cell_type": "code",
   "execution_count": null,
   "id": "f5791b39",
   "metadata": {},
   "outputs": [],
   "source": [
    "subsegment_counts = us_df['Subsegment Code'].value_counts()\n",
    "print(\"Subsegment Code Counts:\")\n",
    "for code, count in subsegment_counts.items():\n",
    "    print(f\"Subsegment Code {code}: {count}\")\n"
   ]
  },
  {
   "cell_type": "code",
   "execution_count": null,
   "id": "ecf61b3d",
   "metadata": {},
   "outputs": [],
   "source": [
    "subsegment_counts = non_us_df['Subsegment Code'].value_counts()\n",
    "print(\"Subsegment Code Counts:\")\n",
    "for code, count in subsegment_counts.items():\n",
    "    print(f\"Subsegment Code {code}: {count}\")\n"
   ]
  },
  {
   "cell_type": "code",
   "execution_count": null,
   "id": "a1642b8d",
   "metadata": {},
   "outputs": [],
   "source": [
    "subsegment_counts = df['Subsegment Code'].value_counts()\n",
    "print(\"Subsegment Code Counts:\")\n",
    "for code, count in subsegment_counts.items():\n",
    "    print(f\"Subsegment Code {code}: {count}\")\n"
   ]
  },
  {
   "cell_type": "code",
   "execution_count": null,
   "id": "9fe01b3a",
   "metadata": {},
   "outputs": [],
   "source": [
    "from imblearn.over_sampling import RandomOverSampler\n",
    "\n",
    "subsegment_counts = us_df['Subsegment Code'].value_counts()\n",
    "\n",
    "# Print the counts for each subsegment code\n",
    "print(\"Subsegment Code Counts:\")\n",
    "for code, count in subsegment_counts.items():\n",
    "    print(f\"Subsegment Code {code}: {count}\")\n",
    "\n",
    "# Apply Random Oversampling to balance the classes\n",
    "ros = RandomOverSampler(random_state=42)\n",
    "X_resampled, y_resampled = ros.fit_resample(us_df.drop('Subsegment Code', axis=1), us_df['Subsegment Code'])\n",
    "\n",
    "# Create a DataFrame from the resampled data\n",
    "resampled_df = pd.DataFrame(X_resampled, columns=us_df.drop('Subsegment Code', axis=1).columns)\n",
    "resampled_df['Subsegment Code'] = y_resampled\n",
    "\n",
    "# Count the occurrences of each unique subsegment code in the resampled DataFrame\n",
    "resampled_subsegment_counts = resampled_df['Subsegment Code'].value_counts()\n",
    "\n",
    "# Print the counts for each subsegment code in the resampled DataFrame\n",
    "print(\"\\nSubsegment Code Counts (After Resampling):\")\n",
    "for code, count in resampled_subsegment_counts.items():\n",
    "    print(f\"Subsegment Code {code}: {count}\")"
   ]
  },
  {
   "cell_type": "code",
   "execution_count": null,
   "id": "2fd8bd14",
   "metadata": {},
   "outputs": [],
   "source": [
    "for features in feature_combinations:\n",
    "    selected_data = us_df[features].values\n",
    "    \n",
    "    # Filter data points within North America\n",
    "    is_in_north_america = np.logical_and.reduce([\n",
    "        selected_data[:, 0] >= north_america_bounds[\"min_longitude\"],\n",
    "        selected_data[:, 0] <= north_america_bounds[\"max_longitude\"],\n",
    "        selected_data[:, 1] >= north_america_bounds[\"min_latitude\"],\n",
    "        selected_data[:, 1] <= north_america_bounds[\"max_latitude\"]\n",
    "    ])\n",
    "    selected_data = selected_data[is_in_north_america]\n",
    "    subsegment_codes = us_df.loc[is_in_north_america, 'Subsegment Code'].values\n",
    "    \n",
    "    fig, ax = plt.subplots(figsize=(20, 10))\n",
    "\n",
    "    # Plot points with unique colors for each subsegment code\n",
    "    unique_subsegment_codes = np.unique(subsegment_codes)\n",
    "    colors = plt.cm.tab20(np.linspace(0, 1, len(unique_subsegment_codes)))\n",
    "    for code, color in zip(unique_subsegment_codes, colors):\n",
    "        ax.scatter(selected_data[subsegment_codes == code, 0], selected_data[subsegment_codes == code, 1], label=f'Subsegment {code}', alpha=0.5, color=color)\n",
    "\n",
    "    ax.set_title(f'Fuzzy Clustering Results (US Only): {features[0]} vs {features[1]}')\n",
    "    ax.set_xlabel(features[0])\n",
    "    ax.set_ylabel(features[1])\n",
    "    ax.legend(title='Subsegment Code', loc='upper right')\n",
    "    \n",
    "    plt.grid(True)\n",
    "    plt.show()"
   ]
  },
  {
   "cell_type": "code",
   "execution_count": null,
   "id": "470eb1b6",
   "metadata": {},
   "outputs": [],
   "source": [
    "north_america_bounds = {\n",
    "    \"min_longitude\": -125.0,\n",
    "    \"max_longitude\": -67.0,\n",
    "    \"min_latitude\": 24.0,\n",
    "    \"max_latitude\": 49.0\n",
    "}\n",
    "\n",
    "num_clusters = 2\n",
    "for features in feature_combinations:\n",
    "    selected_data = us_df[features].values\n",
    "    \n",
    "    # Filter data points within North America\n",
    "    is_in_north_america = np.logical_and.reduce([\n",
    "        selected_data[:, 0] >= north_america_bounds[\"min_longitude\"],\n",
    "        selected_data[:, 0] <= north_america_bounds[\"max_longitude\"],\n",
    "        selected_data[:, 1] >= north_america_bounds[\"min_latitude\"],\n",
    "        selected_data[:, 1] <= north_america_bounds[\"max_latitude\"]\n",
    "    ])\n",
    "    selected_data = selected_data[is_in_north_america]\n",
    "    centroids, membership = fuzzy_clustering(selected_data, num_clusters)\n",
    "    \n",
    "    fig, ax = plt.subplots(figsize=(20, 10))\n",
    "\n",
    "    # Clusters\n",
    "    for i in range(num_clusters):\n",
    "        cluster_color = plt.cm.tab10(i)\n",
    "        ax.scatter(selected_data[membership.argmax(axis=0) == i, 0], selected_data[membership.argmax(axis=0) == i, 1], label=f'Cluster {i+1}', alpha=0.5, color=cluster_color)\n",
    "\n",
    "    # Centroids\n",
    "    for i in range(num_clusters):\n",
    "        cluster_color = plt.cm.tab10(i)\n",
    "        ax.scatter(centroids[i, 0], centroids[i, 1], marker='X', color=cluster_color, edgecolors='black', linewidth=1, s=100)\n",
    "\n",
    "        covariance_matrix = compute_covariance(selected_data, membership, centroids, i)\n",
    "\n",
    "        # Plot ellipse around centroids\n",
    "        ellipse = Ellipse((centroids[i, 0], centroids[i, 1]), 2*np.sqrt(5.991*covariance_matrix[0, 0]), 2*np.sqrt(5.991*covariance_matrix[1, 1]), np.degrees(np.arccos(covariance_matrix[0, 1]/np.sqrt(covariance_matrix[0, 0]*covariance_matrix[1, 1]))), edgecolor=cluster_color, linestyle='--', fill=True, alpha=0.1, lw=2, facecolor=cluster_color)\n",
    "        ax.add_patch(ellipse)\n",
    "\n",
    "    ax.set_title(f'Fuzzy Clustering Results (US Only): {features[0]} vs {features[1]} vs {features[2]}')\n",
    "    ax.set_xlabel(features[0])\n",
    "    ax.set_ylabel(features[1])\n",
    "    ax.legend()\n",
    "    \n",
    "    plt.grid(True)\n",
    "    plt.show()"
   ]
  },
  {
   "cell_type": "markdown",
   "id": "e28cd967",
   "metadata": {},
   "source": [
    "______________________________________________________________________________________________________________________________"
   ]
  },
  {
   "cell_type": "code",
   "execution_count": null,
   "id": "e9cbe5c9",
   "metadata": {},
   "outputs": [],
   "source": [
    "feature_combinations = [['Longitude', 'Latitude']]\n",
    "\n",
    "num_clusters_range = range(2, 16)  # Test 2 to 15 clusters\n",
    "best_num_clusters = None\n",
    "best_score = -1\n",
    "silhouette_scores_list = []  \n",
    "\n",
    "for num_clusters in tqdm(num_clusters_range):\n",
    "    silhouette_scores = []\n",
    "    for features in feature_combinations:\n",
    "        selected_data = non_us_df[features].values\n",
    "        score = calculate_silhouette_score(selected_data, num_clusters)\n",
    "        silhouette_scores.append(score)\n",
    "    avg_score = np.mean(silhouette_scores)\n",
    "    silhouette_scores_list.append(avg_score)"
   ]
  },
  {
   "cell_type": "code",
   "execution_count": null,
   "id": "0cbbc9e2",
   "metadata": {},
   "outputs": [],
   "source": [
    "plt.figure(figsize=(10, 6))\n",
    "plt.bar(num_clusters_range, silhouette_scores_list)\n",
    "plt.xlabel('Number of Clusters')\n",
    "plt.ylabel('Average Silhouette Score')\n",
    "plt.title('Average Silhouette Score vs Number of Clusters')\n",
    "plt.xticks(num_clusters_range)\n",
    "plt.grid(True)\n",
    "plt.show()"
   ]
  },
  {
   "cell_type": "code",
   "execution_count": null,
   "id": "a760341d",
   "metadata": {},
   "outputs": [],
   "source": [
    "feature_combinations = [['Longitude', 'Latitude']]\n",
    "\n",
    "# Apply fuzzy clustering and visualize clusters for each feature combination\n",
    "num_clusters = 3\n",
    "for features in feature_combinations:\n",
    "    selected_data = non_us_df[features].values\n",
    "    centroids, membership = fuzzy_clustering(selected_data, num_clusters)\n",
    "    \n",
    "    fig, ax = plt.subplots(figsize=(20, 10))\n",
    "    \n",
    "    # Clusters\n",
    "    for i in range(num_clusters):\n",
    "        cluster_color = plt.cm.tab10(i)\n",
    "        ax.scatter(selected_data[membership.argmax(axis=0) == i, 0], selected_data[membership.argmax(axis=0) == i, 1], label=f'Cluster {i+1}', alpha=0.5, color=cluster_color)\n",
    "    \n",
    "    # Centroids\n",
    "    for i in range(num_clusters):\n",
    "        cluster_color = plt.cm.tab10(i)\n",
    "        ax.scatter(centroids[i, 0], centroids[i, 1], marker='X', color=cluster_color, edgecolors='black', linewidth=1, s=100)\n",
    "        covariance_matrix = compute_covariance(selected_data, membership, centroids, i)\n",
    "\n",
    "        # Plot ellipse around centroids\n",
    "        ellipse = Ellipse((centroids[i, 0], centroids[i, 1]), 2*np.sqrt(5.991*covariance_matrix[0, 0]), 2*np.sqrt(5.991*covariance_matrix[1, 1]), np.degrees(np.arccos(covariance_matrix[0, 1]/np.sqrt(covariance_matrix[0, 0]*covariance_matrix[1, 1]))), edgecolor=cluster_color, linestyle='--', fill=True, alpha=0.1, lw=2, facecolor=cluster_color)\n",
    "        ax.add_patch(ellipse)\n",
    "\n",
    "    ax.set_title(f'Fuzzy Clustering Results Non-US: {features[0]} vs {features[1]}')\n",
    "    ax.set_xlabel(features[0])\n",
    "    ax.set_ylabel(features[1])\n",
    "    ax.legend()\n",
    "    \n",
    "    #mplcursors.cursor(scatter_plots, hover=True).connect(\"add\", lambda sel: sel.annotation.set_text(df.iloc[sel.target.index][\"Country\"]))\n",
    "\n",
    "    \n",
    "    plt.grid(True)\n",
    "    plt.show()"
   ]
  },
  {
   "cell_type": "code",
   "execution_count": null,
   "id": "2a3d95f7",
   "metadata": {},
   "outputs": [],
   "source": [
    "feature_combinations = [\n",
    "    ['Longitude', 'Region_Asia'], \n",
    "    ['Longitude', 'Region_Australia'], \n",
    "    #['Longitude', 'Region_Canada'], \n",
    "    #['Longitude', 'Region_Central America'], \n",
    "    ['Longitude', 'Region_Europe'], \n",
    "    ['Longitude', 'Region_Great Lakes'], \n",
    "    ['Longitude', 'Region_Mid East'], \n",
    "    ['Longitude', 'Region_New England'], \n",
    "    ['Longitude', 'Region_North America'], \n",
    "    ['Longitude', 'Region_Plains'], \n",
    "    ['Longitude', 'Region_Rocky Mountain'], \n",
    "    ['Longitude', 'Region_South America'], \n",
    "    ['Longitude', 'Region_Southeast'], \n",
    "    ['Longitude', 'Region_Southwest'], \n",
    "    ['Longitude', 'Region_West'], \n",
    "    ['Latitude', 'Region_Asia'], \n",
    "    ['Latitude', 'Region_Australia'], \n",
    "    #['Latitude', 'Region_Canada'], \n",
    "    #['Latitude', 'Region_Central America'], \n",
    "    ['Latitude', 'Region_Europe'], \n",
    "    ['Latitude', 'Region_Great Lakes'], \n",
    "    ['Latitude', 'Region_Mid East'], \n",
    "    ['Latitude', 'Region_New England'], \n",
    "    ['Latitude', 'Region_North America'], \n",
    "    ['Latitude', 'Region_Plains'], \n",
    "    ['Latitude', 'Region_Rocky Mountain'], \n",
    "    ['Latitude', 'Region_South America'], \n",
    "    ['Latitude', 'Region_Southeast'], \n",
    "    ['Latitude', 'Region_Southwest'], \n",
    "    ['Latitude', 'Region_West']\n",
    "]\n",
    "\n",
    "\n",
    "num_clusters_range = range(2, 16)  # Test 2 to 15 clusters\n",
    "best_num_clusters = None\n",
    "best_score = -1\n",
    "silhouette_scores_list = []  \n",
    "\n",
    "#for num_clusters in tqdm(num_clusters_range):\n",
    "#    silhouette_scores = []\n",
    "#    for features in feature_combinations:\n",
    "#        selected_data = df[features].values\n",
    "#        score = calculate_silhouette_score(selected_data, num_clusters)\n",
    "#        silhouette_scores.append(score)\n",
    "#    avg_score = np.mean(silhouette_scores)\n",
    "#    silhouette_scores_list.append(avg_score)"
   ]
  },
  {
   "cell_type": "code",
   "execution_count": null,
   "id": "f1de9175",
   "metadata": {},
   "outputs": [],
   "source": [
    "#plt.figure(figsize=(10, 6))\n",
    "#plt.bar(num_clusters_range, silhouette_scores_list)\n",
    "#plt.xlabel('Number of Clusters')\n",
    "#plt.ylabel('Average Silhouette Score')\n",
    "#plt.title('Average Silhouette Score vs Number of Clusters - Using Regions')\n",
    "#plt.xticks(num_clusters_range)\n",
    "#plt.grid(True)\n",
    "#plt.show()"
   ]
  },
  {
   "attachments": {
    "image.png": {
     "image/png": "[encoded data removed]"
    }
   },
   "cell_type": "markdown",
   "id": "3a352c47",
   "metadata": {},
   "source": [
    "![image.png](attachment:image.png)"
   ]
  },
  {
   "cell_type": "code",
   "execution_count": null,
   "id": "70eb12f8",
   "metadata": {},
   "outputs": [],
   "source": [
    "num_clusters = 4\n",
    "'''\n",
    "for features in feature_combinations:\n",
    "    selected_data = df[features].values\n",
    "    centroids, membership = fuzzy_clustering(selected_data, num_clusters)\n",
    "    \n",
    "    fig, ax = plt.subplots(figsize=(20, 10))\n",
    "    \n",
    "    # Clusters\n",
    "    for i in range(num_clusters):\n",
    "        cluster_color = plt.cm.tab10(i)\n",
    "        ax.scatter(selected_data[membership.argmax(axis=0) == i, 0], selected_data[membership.argmax(axis=0) == i, 1], label=f'Cluster {i+1}', alpha=0.5, color=cluster_color)\n",
    "    \n",
    "    # Centroids\n",
    "    for i in range(num_clusters):\n",
    "        cluster_color = plt.cm.tab10(i)\n",
    "        ax.scatter(centroids[i, 0], centroids[i, 1], marker='X', color=cluster_color, edgecolors='black', linewidth=1, s=100)\n",
    "        covariance_matrix = compute_covariance(selected_data, membership, centroids, i)\n",
    "\n",
    "        # Plot ellipse around centroids\n",
    "        ellipse = Ellipse((centroids[i, 0], centroids[i, 1]), 2*np.sqrt(5.991*covariance_matrix[0, 0]), 2*np.sqrt(5.991*covariance_matrix[1, 1]), np.degrees(np.arccos(covariance_matrix[0, 1]/np.sqrt(covariance_matrix[0, 0]*covariance_matrix[1, 1]))), edgecolor=cluster_color, linestyle='--', fill=True, alpha=0.1, lw=2, facecolor=cluster_color)\n",
    "        ax.add_patch(ellipse)\n",
    "\n",
    "    ax.set_title(f'Fuzzy Clustering Results Non-US: {features[0]} vs {features[1]}')\n",
    "    ax.set_xlabel(features[0])\n",
    "    ax.set_ylabel(features[1])\n",
    "    ax.legend()\n",
    "    \n",
    "    plt.grid(True)\n",
    "    plt.show()'''"
   ]
  },
  {
   "cell_type": "markdown",
   "id": "10e19533",
   "metadata": {},
   "source": [
    "# Replace the dataset below with the desired dataset"
   ]
  },
  {
   "cell_type": "markdown",
   "id": "f6c41c70",
   "metadata": {},
   "source": [
    "## Here's how fuzzy clustering works:\n",
    "\n",
    "1. Initialization: Fuzzy clustering starts with an initial guess of cluster centers (centroids) or membership values.\n",
    "\n",
    "2. Membership Assignment: In each iteration, the algorithm calculates the degree of membership for each data point in each cluster. The membership values are typically between 0 and 1, and they indicate the probability or degree to which a data point belongs to a cluster.\n",
    "\n",
    "3. Centroid Update: Once the membership values are calculated, the centroids of the clusters are updated based on these membership values. The centroids are recalculated as the weighted average of all data points, where the weights are given by the membership values.\n",
    "\n",
    "4. Iteration: Steps 2 and 3 are repeated iteratively until either convergence is achieved (i.e., the centroids stabilize) or a predefined stopping criterion is met (such as maximum number of iterations).\n",
    "\n",
    "5. Cluster Interpretation: After convergence, the algorithm provides not only the cluster assignments for each data point but also the degree to which each data point belongs to each cluster. This allows for a more nuanced interpretation of the clustering results, as data points can belong partially to multiple clusters."
   ]
  },
  {
   "cell_type": "markdown",
   "id": "90c22d98",
   "metadata": {},
   "source": [
    "### Removing some of the noisy data"
   ]
  },
  {
   "cell_type": "code",
   "execution_count": null,
   "id": "5d56bbcc",
   "metadata": {},
   "outputs": [],
   "source": [
    "selected_features = ['Longitude', 'Latitude']\n",
    "\n",
    "# Calculate z-scores for selected features\n",
    "z_scores = np.abs((df[selected_features] - df[selected_features].mean()) / df[selected_features].std())\n",
    "\n",
    "# Define a threshold for z-score\n",
    "z_score_threshold = 3\n",
    "\n",
    "# Find indices of rows where z-scores exceed the threshold for any selected feature\n",
    "outlier_indices = z_scores[(z_scores > z_score_threshold).any(axis=1)].index\n",
    "\n",
    "# Remove rows with noisy data\n",
    "cleaned_df = df.drop(outlier_indices)\n",
    "\n",
    "# Print the shape of the cleaned dataset to check the number of removed rows\n",
    "print(\"Shape of original dataset:\", df.shape)\n",
    "print(\"Shape of cleaned dataset:\", cleaned_df.shape)"
   ]
  },
  {
   "cell_type": "code",
   "execution_count": null,
   "id": "85d8037c",
   "metadata": {},
   "outputs": [],
   "source": [
    "feature_combinations = [['Longitude', 'Latitude']]\n",
    "\n",
    "num_clusters_range = range(2, 16)  # Test 2 to 15 clusters\n",
    "best_num_clusters = None\n",
    "best_score = -1\n",
    "silhouette_scores_list = []  \n",
    "\n",
    "for num_clusters in tqdm(num_clusters_range):\n",
    "    silhouette_scores = []\n",
    "    for features in feature_combinations:\n",
    "        selected_data = cleaned_df[features].values\n",
    "        score = calculate_silhouette_score(selected_data, num_clusters)\n",
    "        silhouette_scores.append(score)\n",
    "    avg_score = np.mean(silhouette_scores)\n",
    "    silhouette_scores_list.append(avg_score)"
   ]
  },
  {
   "cell_type": "code",
   "execution_count": null,
   "id": "2fa1d443",
   "metadata": {},
   "outputs": [],
   "source": [
    "plt.figure(figsize=(10, 6))\n",
    "plt.bar(num_clusters_range, silhouette_scores_list)\n",
    "plt.xlabel('Number of Clusters')\n",
    "plt.ylabel('Average Silhouette Score')\n",
    "plt.title('Average Silhouette Score vs Number of Clusters')\n",
    "plt.xticks(num_clusters_range)\n",
    "plt.grid(True)\n",
    "plt.show()"
   ]
  },
  {
   "cell_type": "code",
   "execution_count": null,
   "id": "f4284a50",
   "metadata": {},
   "outputs": [],
   "source": [
    "selected_features = ['Longitude', 'Latitude']\n",
    "cleaned_data = cleaned_df[selected_features].values"
   ]
  },
  {
   "cell_type": "code",
   "execution_count": null,
   "id": "ca1b8021",
   "metadata": {},
   "outputs": [],
   "source": [
    "# Apply fuzzy clustering to the cleaned dataset\n",
    "num_clusters = 2\n",
    "for features in feature_combinations:\n",
    "    selected_data = cleaned_df[features].values\n",
    "    centroids, membership = fuzzy_clustering(selected_data, num_clusters)\n",
    "    \n",
    "    fig, ax = plt.subplots(figsize=(20, 10))\n",
    "    \n",
    "    # Clusters\n",
    "    for i in range(num_clusters):\n",
    "        cluster_color = plt.cm.tab10(i)\n",
    "        ax.scatter(selected_data[membership.argmax(axis=0) == i, 0], selected_data[membership.argmax(axis=0) == i, 1], label=f'Cluster {i+1}', alpha=0.5, color=cluster_color)\n",
    "    \n",
    "    # Centroids\n",
    "    for i in range(num_clusters):\n",
    "        cluster_color = plt.cm.tab10(i)\n",
    "        ax.scatter(centroids[i, 0], centroids[i, 1], marker='X', color=cluster_color, edgecolors='black', linewidth=1, s=100)\n",
    "        covariance_matrix = compute_covariance(selected_data, membership, centroids, i)\n",
    "\n",
    "        # Plot ellipse around centroids\n",
    "        ellipse = Ellipse((centroids[i, 0], centroids[i, 1]), 2*np.sqrt(5.991*covariance_matrix[0, 0]), 2*np.sqrt(5.991*covariance_matrix[1, 1]), np.degrees(np.arccos(covariance_matrix[0, 1]/np.sqrt(covariance_matrix[0, 0]*covariance_matrix[1, 1]))), edgecolor=cluster_color, linestyle='--', fill=True, alpha=0.1, lw=2, facecolor=cluster_color)\n",
    "        ax.add_patch(ellipse)\n",
    "\n",
    "    ax.set_title(f'Fuzzy Clustering Results Cleaned Data: {features[0]} vs {features[1]}')\n",
    "    ax.set_xlabel(features[0])\n",
    "    ax.set_ylabel(features[1])\n",
    "    ax.legend()\n",
    "    \n",
    "    #mplcursors.cursor(scatter_plots, hover=True).connect(\"add\", lambda sel: sel.annotation.set_text(df.iloc[sel.target.index][\"Country\"]))\n",
    "\n",
    "    \n",
    "    plt.grid(True)\n",
    "    plt.show()\n"
   ]
  },
  {
   "cell_type": "markdown",
   "id": "bda46605",
   "metadata": {},
   "source": [
    "#### Latitude vs. Longitude Cleaned"
   ]
  },
  {
   "cell_type": "code",
   "execution_count": null,
   "id": "c510254b",
   "metadata": {},
   "outputs": [],
   "source": [
    "# Select the features for which you want to remove noisy data\n",
    "selected_features = ['Latitude', 'Longitude']\n",
    "\n",
    "# Calculate z-scores for selected features\n",
    "z_scores = np.abs((df[selected_features] - df[selected_features].mean()) / df[selected_features].std())\n",
    "\n",
    "# Define a threshold for z-score\n",
    "z_score_threshold = 3\n",
    "\n",
    "# Find indices of rows where z-scores exceed the threshold for any selected feature\n",
    "outlier_indices = z_scores[(z_scores > z_score_threshold).any(axis=1)].index\n",
    "\n",
    "# Remove rows with noisy data\n",
    "cleaned_df = df.drop(outlier_indices)\n",
    "\n",
    "# Print the shape of the cleaned dataset to check the number of removed rows\n",
    "print(\"Shape of original dataset:\", df.shape)\n",
    "print(\"Shape of cleaned dataset:\", cleaned_df.shape)\n"
   ]
  },
  {
   "cell_type": "code",
   "execution_count": null,
   "id": "4783220a",
   "metadata": {},
   "outputs": [],
   "source": [
    "cleaned_data = cleaned_df[selected_features].values\n",
    "\n",
    "# Apply fuzzy clustering to the cleaned dataset\n",
    "num_clusters = 2  # Define the number of clusters\n",
    "centroids, membership = fuzzy_clustering(cleaned_data, num_clusters)\n",
    "\n",
    "# Visualize the clusters\n",
    "fig, ax = plt.subplots(figsize=(10, 6))\n",
    "\n",
    "# Plot data points with colors representing cluster membership\n",
    "for i in range(num_clusters):\n",
    "    cluster_color = plt.cm.tab10(i)  # Get a color from the tab10 colormap\n",
    "    ax.scatter(cleaned_data[membership.argmax(axis=0) == i, 1], cleaned_data[membership.argmax(axis=0) == i, 0], label=f'Cluster {i+1}', alpha=0.5, color=cluster_color)\n",
    "\n",
    "# Plot centroids with the same color as the clusters and black outline\n",
    "for i in range(num_clusters):\n",
    "    cluster_color = plt.cm.tab10(i) \n",
    "    ax.scatter(centroids[i, 1], centroids[i, 0], marker='X', color=cluster_color, edgecolors='black', linewidth=1, s=100)\n",
    "\n",
    "ax.set_title('Fuzzy Clustering Results (Cleaned Data)')\n",
    "ax.set_xlabel(selected_features[1])\n",
    "ax.set_ylabel(selected_features[0])\n",
    "ax.legend()\n",
    "plt.grid(True)\n",
    "plt.show()\n"
   ]
  },
  {
   "cell_type": "markdown",
   "id": "73e4f25b",
   "metadata": {},
   "source": [
    "## Subspace Clustering"
   ]
  },
  {
   "cell_type": "code",
   "execution_count": null,
   "id": "dee53210",
   "metadata": {},
   "outputs": [],
   "source": [
    "def subspace_clustering(dataset, num_clusters, feature_combinations):\n",
    "    \"\"\"\n",
    "    Apply subspace clustering to a dataset using KMeans.\n",
    "\n",
    "    Parameters:\n",
    "        dataset (numpy.ndarray): The dataset to cluster.\n",
    "        num_clusters (int): The number of clusters to create.\n",
    "        feature_combinations (list of lists): The list of feature combinations to use for clustering.\n",
    "\n",
    "    Returns:\n",
    "        clusters (list of tuples): List of tuples containing centroids and labels for each feature combination.\n",
    "    \"\"\"\n",
    "    clusters = []\n",
    "    for features in feature_combinations:\n",
    "        # Select only the features in the feature_combination\n",
    "        selected_data = dataset[:, features]\n",
    "        \n",
    "        # Apply KMeans clustering\n",
    "        kmeans = KMeans(n_clusters=num_clusters)\n",
    "        kmeans.fit(selected_data)\n",
    "        centroids = kmeans.cluster_centers_\n",
    "        labels = kmeans.labels_\n",
    "        \n",
    "        clusters.append((centroids, labels))\n",
    "    \n",
    "    return clusters\n"
   ]
  },
  {
   "cell_type": "markdown",
   "id": "aa09a62c",
   "metadata": {},
   "source": [
    "### Cell is performing sub space clustering using KMeans. \n",
    "### Replace the dataset below with the desired dataset"
   ]
  },
  {
   "cell_type": "code",
   "execution_count": null,
   "id": "1f25c033",
   "metadata": {},
   "outputs": [],
   "source": [
    "# List of feature combinations for subspace clustering\n",
    "subspace_combinations = [\n",
    "    ['Latitude', 'Longitude']  # Feature indices for first combination\n",
    "    #[2, 3]  # Feature indices for second combination\n",
    "    #[4, 5],  # Feature indices for third combination\n",
    "    #[6, 7]   # Feature indices for fourth combination\n",
    "]\n",
    "\n",
    "\n",
    "# Applying subspace clustering\n",
    "num_clusters = 3\n",
    "clusters = subspace_clustering(df[subspace_combinations].values, num_clusters, subspace_combinations)\n",
    "\n",
    "# Visualize the clusters for each feature combination\n",
    "for i, (centroids, labels) in enumerate(clusters):\n",
    "    features = subspace_combinations[i]\n",
    "    print(features)\n",
    "    fig, ax = plt.subplots(figsize=(10, 6))\n",
    "    for j in range(num_clusters):\n",
    "        cluster_color = plt.cm.tab10(j)  \n",
    "        ax.scatter(df.iloc[:, features[0]][labels == j], \n",
    "                   df.iloc[:, features[1]][labels == j], \n",
    "                   label=f'Cluster {j+1}', alpha=0.5, color=cluster_color)\n",
    "    for j in range(num_clusters):\n",
    "        cluster_color = plt.cm.tab10(j) \n",
    "        ax.scatter(centroids[j, 0], centroids[j, 1], marker='X', color=cluster_color, \n",
    "                   edgecolors='black', linewidth=1, s=100, label=f'Centroid {j+1}')\n",
    "    ax.set_title(f'Subspace Clustering Results: {data.feature_names[features[0]]} vs {data.feature_names[features[1]]}')\n",
    "    ax.set_xlabel(data.feature_names[features[0]])\n",
    "    ax.set_ylabel(data.feature_names[features[1]])\n",
    "    ax.legend()\n",
    "    plt.grid(True)\n",
    "    plt.show()\n"
   ]
  },
  {
   "cell_type": "markdown",
   "id": "9a324a7e",
   "metadata": {},
   "source": [
    "## BIRCH Algorithm"
   ]
  },
  {
   "cell_type": "markdown",
   "id": "ab081e84",
   "metadata": {},
   "source": [
    "#### LINK: https://www.sciencedirect.com/science/article/pii/S2214579617300151"
   ]
  },
  {
   "cell_type": "code",
   "execution_count": null,
   "id": "9d6fc8f5",
   "metadata": {},
   "outputs": [],
   "source": [
    "def apply_birch(dataset, threshold, branching_factor):\n",
    "    \"\"\"\n",
    "    Apply BIRCH clustering to a dataset.\n",
    "\n",
    "    Parameters:\n",
    "        dataset (numpy.ndarray): The dataset to cluster.\n",
    "        threshold (float): The branching factor threshold.\n",
    "        branching_factor (int): The maximum number of subclusters in each leaf node.\n",
    "\n",
    "    Returns:\n",
    "        labels (numpy.ndarray): Array containing the cluster labels for each data point.\n",
    "    \"\"\"\n",
    "    birch = Birch(threshold=threshold, branching_factor=branching_factor)\n",
    "    labels = birch.fit_predict(dataset)\n",
    "    return labels"
   ]
  },
  {
   "cell_type": "code",
   "execution_count": null,
   "id": "3adab6c7",
   "metadata": {
    "scrolled": false
   },
   "outputs": [],
   "source": [
    "feature_combinations = [\n",
    "    ['Longitude', 'Latitude']\n",
    "]\n",
    "\n",
    "# Apply BIRCH clustering to each feature combination\n",
    "threshold = 0.5\n",
    "branching_factor = 50\n",
    "clusters = []\n",
    "for features in feature_combinations:\n",
    "    selected_data = df[features].values\n",
    "    labels = apply_birch(selected_data, threshold, branching_factor)\n",
    "    clusters.append((selected_data, labels))\n",
    "    \n",
    "for i, (selected_data, labels) in enumerate(clusters):\n",
    "    features = feature_combinations[i]\n",
    "    plt.figure(figsize=(10, 6))\n",
    "    unique_labels = np.unique(labels)\n",
    "    colors = plt.cm.tab10(np.linspace(0, 1, len(unique_labels)))  # Generate distinct colors for clusters\n",
    "    for j, label in enumerate(unique_labels):\n",
    "        plt.scatter(selected_data[labels == label, 0], selected_data[labels == label, 1],\n",
    "                    label=f'Cluster {label}', color=colors[j], alpha=0.5)\n",
    "    plt.title(f'BIRCH Clustering Results: {features[0]} vs {features[1]}')\n",
    "    plt.xlabel(features[0])\n",
    "    plt.ylabel(features[1])\n",
    "    plt.legend()\n",
    "    plt.grid(True)\n",
    "    plt.show()\n"
   ]
  },
  {
   "cell_type": "markdown",
   "id": "2a0beefc",
   "metadata": {},
   "source": [
    "## OPTICS Algorithm\n",
    "#### Link: https://dl.acm.org/doi/abs/10.1145/304181.304187"
   ]
  },
  {
   "cell_type": "markdown",
   "id": "76415b5e",
   "metadata": {},
   "source": [
    "## Actual Data Usage"
   ]
  },
  {
   "cell_type": "code",
   "execution_count": null,
   "id": "a4670f82",
   "metadata": {},
   "outputs": [],
   "source": [
    "def apply_optics(dataset, min_samples, xi=0.05, min_cluster_size=0.1):\n",
    "    \"\"\"\n",
    "    Apply OPTICS clustering to a dataset.\n",
    "    \n",
    "    Parameters:\n",
    "        dataset (numpy.ndarray): The dataset to cluster.\n",
    "        min_samples (int): The number of samples in a neighborhood for a point to be considered as a core point.\n",
    "        xi (float): Determines the minimum steepness on the reachability plot that constitutes a cluster boundary (default=0.05).\n",
    "        min_cluster_size (float or int): The minimum number of samples in a cluster. If float, it represents the fraction of the number of samples (default=0.1).\n",
    "    \n",
    "    Returns:\n",
    "        labels (numpy.ndarray): Array containing the cluster labels for each data point.\n",
    "        optics (OPTICS object): Fitted OPTICS object.\n",
    "    \"\"\"\n",
    "    optics = OPTICS(min_samples=min_samples, xi=xi, min_cluster_size=min_cluster_size)\n",
    "    optics.fit(dataset)\n",
    "    labels = optics.labels_\n",
    "    return labels, optics"
   ]
  },
  {
   "cell_type": "code",
   "execution_count": null,
   "id": "36ef3987",
   "metadata": {},
   "outputs": [],
   "source": [
    "feature_combinations = [\n",
    "    ['Longitude', 'Latitude']\n",
    "]\n",
    "\n",
    "# Apply OPTICS clustering to each feature combination\n",
    "min_samples = 10\n",
    "clusters = []\n",
    "for features in feature_combinations:\n",
    "    selected_data = df[features].values\n",
    "    labels, optics = apply_optics(selected_data, min_samples)\n",
    "    clusters.append((selected_data, labels, optics))\n",
    "    \n",
    "for i, (selected_data, labels, optics) in enumerate(clusters):\n",
    "    features = feature_combinations[i]\n",
    "    \n",
    "    # Plot clustered data\n",
    "    plt.figure(figsize=(10, 6))\n",
    "    unique_labels = np.unique(labels)\n",
    "    colors = plt.cm.tab10(np.linspace(0, 1, len(unique_labels))) \n",
    "    for j, label in enumerate(unique_labels):\n",
    "        if label == -1:\n",
    "            plt.scatter(selected_data[labels == label, 0], selected_data[labels == label, 1],\n",
    "                        label=f'Noise', color='gray', alpha=0.5)\n",
    "        else:\n",
    "            plt.scatter(selected_data[labels == label, 0], selected_data[labels == label, 1],\n",
    "                        label=f'Cluster {label}', color=colors[j], alpha=0.5)\n",
    "    plt.title(f'OPTICS Clustering Results: {features[0]} vs {features[1]}')\n",
    "    plt.xlabel(features[0])\n",
    "    plt.ylabel(features[1])\n",
    "    plt.legend()\n",
    "    plt.grid(True)\n",
    "    plt.show()"
   ]
  },
  {
   "cell_type": "code",
   "execution_count": null,
   "id": "85bc4c32",
   "metadata": {},
   "outputs": [],
   "source": [
    "def apply_dbscan(dataset, eps, min_samples):\n",
    "    \"\"\"\n",
    "    Apply DBSCAN clustering to a dataset.\n",
    "    \n",
    "    Parameters:\n",
    "        dataset (numpy.ndarray): The dataset to cluster.\n",
    "        eps (float): The maximum distance between two samples for one to be considered as in the neighborhood of the other.\n",
    "        min_samples (int): The number of samples (or total weight) in a neighborhood for a point to be considered as a core point.\n",
    "    \n",
    "    Returns:\n",
    "        labels (numpy.ndarray): Array containing the cluster labels for each data point.\n",
    "    \"\"\"\n",
    "    dbscan = DBSCAN(eps=eps, min_samples=min_samples)\n",
    "    labels = dbscan.fit_predict(dataset)\n",
    "    return labels\n"
   ]
  },
  {
   "cell_type": "code",
   "execution_count": null,
   "id": "a27f1b24",
   "metadata": {},
   "outputs": [],
   "source": [
    "feature_combinations = ['Longitude', 'Latitude']\n",
    "scaler = StandardScaler()\n",
    "df_normalized = scaler.fit_transform(df[feature_combinations])"
   ]
  },
  {
   "cell_type": "code",
   "execution_count": null,
   "id": "70184e4d",
   "metadata": {},
   "outputs": [],
   "source": [
    "feature_names_index = pd.Index(df_normalized[feature_combinations].columns)\n",
    "\n",
    "\n",
    "# Reapplying DBSCAN with adjusted parameters\n",
    "eps = 0.5\n",
    "min_samples = 5 \n",
    "clusters = []\n",
    "for features in feature_combinations:\n",
    "    selected_data = df_normalized[:, [feature_names_index.get_loc(f) for f in features]]\n",
    "    labels = apply_dbscan(selected_data, eps, min_samples)\n",
    "    \n",
    "    unique_labels = np.unique(labels)\n",
    "    num_clusters = len(unique_labels) - 1  # Subtracting one for noise points\n",
    "    if num_clusters > 3:\n",
    "        # Merge small clusters into noise\n",
    "        cluster_counts = np.bincount(labels[labels != -1])\n",
    "        small_clusters = np.where(cluster_counts < len(labels) / 10)[0] \n",
    "        for cluster in small_clusters:\n",
    "            labels[labels == cluster] = -1\n",
    "    \n",
    "    clusters.append((selected_data, labels))\n",
    "    \n",
    "for i, (selected_data, labels) in enumerate(clusters):\n",
    "    features = feature_combinations[i]\n",
    "    plt.figure(figsize=(10, 6))\n",
    "    unique_labels = np.unique(labels)\n",
    "    colors = plt.cm.tab10(np.linspace(0, 1, len(unique_labels))) \n",
    "    for j, label in enumerate(unique_labels):\n",
    "        if label == -1:\n",
    "            plt.scatter(selected_data[labels == label, 0], selected_data[labels == label, 1],\n",
    "                        label=f'Noise', color='gray', alpha=0.5)\n",
    "        else:\n",
    "            plt.scatter(selected_data[labels == label, 0], selected_data[labels == label, 1],\n",
    "                        label=f'Cluster {label}', color=colors[j], alpha=0.5)\n",
    "    plt.title(f'DBSCAN Clustering Results: {features[0]} vs {features[1]}')\n",
    "    plt.xlabel(features[0])\n",
    "    plt.ylabel(features[1])\n",
    "    plt.legend()\n",
    "    plt.grid(True)\n",
    "    plt.show()"
   ]
  },
  {
   "cell_type": "code",
   "execution_count": null,
   "id": "88cae672",
   "metadata": {},
   "outputs": [],
   "source": []
  }
 ],
 "metadata": {
  "kernelspec": {
   "display_name": "Python 3 (ipykernel)",
   "language": "python",
   "name": "python3"
  },
  "language_info": {
   "codemirror_mode": {
    "name": "ipython",
    "version": 3
   },
   "file_extension": ".py",
   "mimetype": "text/x-python",
   "name": "python",
   "nbconvert_exporter": "python",
   "pygments_lexer": "ipython3",
   "version": "3.7.6"
  }
 },
 "nbformat": 4,
 "nbformat_minor": 5
}
